{
 "cells": [
  {
   "cell_type": "markdown",
   "id": "e7bdbfb8",
   "metadata": {},
   "source": [
    "# Module 2 – Diving Deeper into Fundamentals\n",
    "\n",
    "_Goal: Expand the types we're comfortable with, and learn about Python's fundamental whitespace-delimited blocks._\n",
    "\n",
    "Topics we'll cover:\n",
    "* Strings continued\n",
    "* Other sequence types\n",
    "    * Tuples\n",
    "    * Sets\n",
    "    * Dictionaries\n",
    "* Flow control\n",
    "* Functions\n",
    "* Conditionals\n",
    "* Identity versus Equality\n",
    "\n",
    "#### Companion Reading for This Module\n",
    "\n",
    "[Official Tutorial](https://docs.python.org/3/tutorial/index.html): Sections 4.1-4.8, 5.1-5.8, 6.1-6.2"
   ]
  },
  {
   "cell_type": "markdown",
   "id": "0d19fd4a",
   "metadata": {},
   "source": [
    "## 2.1 Revisiting Strings"
   ]
  },
  {
   "cell_type": "code",
   "execution_count": null,
   "id": "4ee6b4c1",
   "metadata": {},
   "outputs": [],
   "source": [
    "\"123\"[0] = \"4\"  # remember: immutable"
   ]
  },
  {
   "cell_type": "code",
   "execution_count": null,
   "id": "4a99610d",
   "metadata": {},
   "outputs": [],
   "source": [
    "s = \"Hi! I'm Lynn Root\"\n",
    "s[8]  # but strings are still index-able"
   ]
  },
  {
   "cell_type": "code",
   "execution_count": null,
   "id": "2b2d15fd",
   "metadata": {},
   "outputs": [],
   "source": [
    "s[:5] # as well as slice-able"
   ]
  },
  {
   "cell_type": "markdown",
   "id": "8bf162eb",
   "metadata": {},
   "source": [
    "#### The string API\n",
    "_Some helpful methods to use on strings_"
   ]
  },
  {
   "cell_type": "code",
   "execution_count": null,
   "id": "9d317588",
   "metadata": {},
   "outputs": [],
   "source": [
    "s.lower()  # all lower case"
   ]
  },
  {
   "cell_type": "code",
   "execution_count": null,
   "id": "28d33f4d",
   "metadata": {},
   "outputs": [],
   "source": [
    "# can \"chain\" together\n",
    "s.replace(\"Hi!\", \"Hello.\").replace(\"Lynn Root\", \"Super Woman\")"
   ]
  },
  {
   "cell_type": "code",
   "execution_count": null,
   "id": "fb58c421",
   "metadata": {},
   "outputs": [],
   "source": [
    "\"  \\t  a string with leading and trailing whitespace   \\n  \".strip()"
   ]
  },
  {
   "cell_type": "code",
   "execution_count": null,
   "id": "47be7070",
   "metadata": {},
   "outputs": [],
   "source": [
    "\"we can also titlecase strings\".title()"
   ]
  },
  {
   "cell_type": "code",
   "execution_count": null,
   "id": "eb142988",
   "metadata": {},
   "outputs": [],
   "source": [
    "\"or, split, things\".split(\", \")  # split by character"
   ]
  },
  {
   "cell_type": "code",
   "execution_count": null,
   "id": "110655e4",
   "metadata": {},
   "outputs": [],
   "source": [
    "\"or\\nsplit\\nmultiple\\nlines\".splitlines()  # split by newline character"
   ]
  },
  {
   "cell_type": "markdown",
   "id": "e724183f",
   "metadata": {},
   "source": [
    "Python supports a few different ways to \"format\" strings, or fill in strings with variables.\n",
    "\n",
    "There are some nuances behind each approach, and in the future you may reach for one or the other depending on what you're trying to do. But for now, you can pick one that you like the best, or rotate through them."
   ]
  },
  {
   "cell_type": "code",
   "execution_count": null,
   "id": "b99e2ae9",
   "metadata": {},
   "outputs": [],
   "source": [
    "name = \"Lynn\"\n",
    "surname = \"Root\"\n",
    "\"Hi! I'm \" + name + \" \" + surname"
   ]
  },
  {
   "cell_type": "code",
   "execution_count": null,
   "id": "5033d83e",
   "metadata": {},
   "outputs": [],
   "source": [
    "f\"Hi! I'm {name} {surname}\"  # f-strings "
   ]
  },
  {
   "cell_type": "code",
   "execution_count": null,
   "id": "619272f5",
   "metadata": {},
   "outputs": [],
   "source": [
    "# old style string formatting\n",
    "\"Hi! I'm {} {}\".format(name, surname)"
   ]
  },
  {
   "cell_type": "code",
   "execution_count": null,
   "id": "72863847",
   "metadata": {},
   "outputs": [],
   "source": [
    "\"Hi! I'm {n} {s}\".format(s=surname, n=name)"
   ]
  },
  {
   "cell_type": "code",
   "execution_count": null,
   "id": "eaa16902",
   "metadata": {},
   "outputs": [],
   "source": [
    "\"Hi! I'm {} {} {}\".format(name, surname)"
   ]
  },
  {
   "cell_type": "code",
   "execution_count": null,
   "id": "cfe2817b",
   "metadata": {},
   "outputs": [],
   "source": [
    "# old _old_ style string formatting\n",
    "\"Hi! I'm %s %s\" % (name, surname)"
   ]
  },
  {
   "cell_type": "markdown",
   "id": "9e8b3509",
   "metadata": {},
   "source": [
    "#### Recall\n",
    "\n",
    "The `%` operator was used for modulus when dealing with `int`s. For `str`s, it does the above -- the two uses have no real connection with each other other than that they use the same operator. We'll discuss this more in the context of Object Oriented Programming, but for now you should note that the behavior of a particular operator (or method) can entirely differ depending on the types it is applied to.\n",
    "\n",
    "\n",
    "Python's library of [string manipulation methods](https://docs.python.org/3/library/stdtypes.html#string-methods) is extensive and extremely useful for manipulating text."
   ]
  },
  {
   "cell_type": "markdown",
   "id": "4416fcf8",
   "metadata": {},
   "source": [
    "## 2.2 More Types"
   ]
  },
  {
   "cell_type": "markdown",
   "id": "febd70b6",
   "metadata": {},
   "source": [
    "### 2.2.1 Tuples"
   ]
  },
  {
   "cell_type": "code",
   "execution_count": null,
   "id": "b592a3e0",
   "metadata": {},
   "outputs": [],
   "source": [
    "a = (1, 2, 3)\n",
    "a"
   ]
  },
  {
   "cell_type": "code",
   "execution_count": null,
   "id": "9f33d6aa",
   "metadata": {},
   "outputs": [],
   "source": [
    "b = 1, 2, 3\n",
    "a == b"
   ]
  },
  {
   "cell_type": "code",
   "execution_count": null,
   "id": "8500a44b",
   "metadata": {},
   "outputs": [],
   "source": [
    "c = [1, 2, 3]\n",
    "a == c"
   ]
  },
  {
   "cell_type": "markdown",
   "id": "ab116c60",
   "metadata": {},
   "source": [
    "When to use a tuple?\n",
    "\n",
    "Use a tuple when you _know_ you will not change it.\n",
    "For instance, you'd probably use a tuple when dealing with coordnates"
   ]
  },
  {
   "cell_type": "code",
   "execution_count": null,
   "id": "d3365dc9",
   "metadata": {},
   "outputs": [],
   "source": [
    "coords = (40.8075, 73.9626)"
   ]
  },
  {
   "cell_type": "markdown",
   "id": "7b6e6f82",
   "metadata": {},
   "source": [
    "If you're familiar with the C programming language, it's sort of comparable to `struct`s. \n",
    "\n",
    "Basically, the `list` type is intended for homogeneous sequences, like all integers, all floats, all strings. `tuple`s are meant as heterogeneous data structures.\n",
    "\n",
    "Granted, a lot of the times we create lists with different types - a list gives us a lot of flexibility. And tuples can still be homogenous. so it's okay not to use lists or tuples the _intended_ way. It wouldn't be Python without that flexibility.\n",
    "\n",
    "But too build on that, `tuple`s are for when order is important. Like coordinates, the first item will always be the latitude; the second is the longitude. Later in the course we'll learn about \"name\"-based data structures. But here, tuples can be seen as index-based data structures. Where the index of a tuple has a specific meaning. Another example:"
   ]
  },
  {
   "cell_type": "code",
   "execution_count": null,
   "id": "d08c1d75",
   "metadata": {},
   "outputs": [],
   "source": [
    "person = (\"lynn\", 35, 157.5)  # name, age, height in cm"
   ]
  },
  {
   "cell_type": "markdown",
   "id": "d271d24f",
   "metadata": {},
   "source": [
    "Other reasons to use a tuple:\n",
    "\n",
    "A tuple is faster than a list. \n",
    "\n",
    "Since it's essentially \"read-only\", you are making your code safer. You or someone using your code can't change the value of that tuple. \n",
    "\n",
    "In a little bit, we'll see another use for tuples."
   ]
  },
  {
   "cell_type": "markdown",
   "id": "ba3c7167",
   "metadata": {},
   "source": [
    "### 2.2.2 Sets\n",
    "\n",
    "A set is an unordered, unique collection of items"
   ]
  },
  {
   "cell_type": "code",
   "execution_count": null,
   "id": "94783d53",
   "metadata": {},
   "outputs": [],
   "source": [
    "my_set = {1, 2, 3}  # curly bracket \"list\"\n",
    "my_set"
   ]
  },
  {
   "cell_type": "code",
   "execution_count": null,
   "id": "04ca444e",
   "metadata": {},
   "outputs": [],
   "source": [
    "my_set = set([1, 2, 3])  # built-in function takes an iterable"
   ]
  },
  {
   "cell_type": "code",
   "execution_count": null,
   "id": "1d499ef3",
   "metadata": {},
   "outputs": [],
   "source": [
    "my_set = {1, 1, 2, 2, 3, 3}\n",
    "my_set"
   ]
  },
  {
   "cell_type": "code",
   "execution_count": null,
   "id": "5b941f72",
   "metadata": {},
   "outputs": [],
   "source": [
    "my_set.add(4)"
   ]
  },
  {
   "cell_type": "code",
   "execution_count": null,
   "id": "ad7a6ba7",
   "metadata": {},
   "outputs": [],
   "source": [
    "my_set"
   ]
  },
  {
   "cell_type": "code",
   "execution_count": null,
   "id": "a37505ec",
   "metadata": {},
   "outputs": [],
   "source": [
    "my_set.add(1)\n",
    "my_set"
   ]
  },
  {
   "cell_type": "code",
   "execution_count": null,
   "id": "3937528f",
   "metadata": {},
   "outputs": [],
   "source": [
    "my_set.remove(2)\n",
    "my_set"
   ]
  },
  {
   "cell_type": "code",
   "execution_count": null,
   "id": "fdd23c0b",
   "metadata": {},
   "outputs": [],
   "source": [
    "my_set.remove(2)  # remove will raise an error"
   ]
  },
  {
   "cell_type": "code",
   "execution_count": null,
   "id": "04b0c888",
   "metadata": {},
   "outputs": [],
   "source": [
    "my_set.discard(2)  # remove if exists, otherwise do nothing "
   ]
  },
  {
   "cell_type": "code",
   "execution_count": null,
   "id": "45a2d17c",
   "metadata": {},
   "outputs": [],
   "source": [
    "my_set[0]  # no indexing, no order"
   ]
  },
  {
   "cell_type": "code",
   "execution_count": null,
   "id": "c38d0d1f",
   "metadata": {},
   "outputs": [],
   "source": [
    "lynns_fav_tv = {\"Succession\", \"The Marvelous Mrs. Maisel\", \"Madam Secretary\"}"
   ]
  },
  {
   "cell_type": "code",
   "execution_count": null,
   "id": "0686e56e",
   "metadata": {},
   "outputs": [],
   "source": [
    "petes_fav_tv = {\"BoJack Horseman\", \"I Think You Should Leave\", \"Succession\"}"
   ]
  },
  {
   "cell_type": "code",
   "execution_count": null,
   "id": "6533afb6",
   "metadata": {},
   "outputs": [],
   "source": [
    "lynns_fav_tv + petes_fav_tv  # can't add them together"
   ]
  },
  {
   "cell_type": "code",
   "execution_count": null,
   "id": "8fcd565f",
   "metadata": {},
   "outputs": [],
   "source": [
    "lynns_fav_tv | petes_fav_tv  # Union"
   ]
  },
  {
   "cell_type": "code",
   "execution_count": null,
   "id": "0f920f8f",
   "metadata": {},
   "outputs": [],
   "source": [
    "lynns_fav_tv & petes_fav_tv  # intersection"
   ]
  },
  {
   "cell_type": "code",
   "execution_count": null,
   "id": "91e5cf0b",
   "metadata": {},
   "outputs": [],
   "source": [
    "lynns_fav_tv ^ petes_fav_tv  # symmetric difference"
   ]
  },
  {
   "cell_type": "code",
   "execution_count": null,
   "id": "9b20088e",
   "metadata": {},
   "outputs": [],
   "source": [
    "lynns_fav_tv - petes_fav_tv  # difference"
   ]
  },
  {
   "cell_type": "code",
   "execution_count": null,
   "id": "a4c21eb8",
   "metadata": {},
   "outputs": [],
   "source": [
    "petes_fav_tv - lynns_fav_tv  # difference"
   ]
  },
  {
   "cell_type": "code",
   "execution_count": null,
   "id": "6db922ff",
   "metadata": {},
   "outputs": [],
   "source": [
    "tv_list = list(lynns_fav_tv)  # cast to a list"
   ]
  },
  {
   "cell_type": "code",
   "execution_count": null,
   "id": "cf3e4f2a",
   "metadata": {},
   "outputs": [],
   "source": [
    "type(lynns_fav_tv), type(tv_list)"
   ]
  },
  {
   "cell_type": "markdown",
   "id": "77fdab78",
   "metadata": {},
   "source": [
    "### 2.2.3 Corollary: Unpacking"
   ]
  },
  {
   "cell_type": "code",
   "execution_count": null,
   "id": "d41ea0c6",
   "metadata": {},
   "outputs": [],
   "source": [
    "coords"
   ]
  },
  {
   "cell_type": "code",
   "execution_count": null,
   "id": "645cdcad",
   "metadata": {},
   "outputs": [],
   "source": [
    "lat, long = coords  # tuple unpacking\n",
    "lat"
   ]
  },
  {
   "cell_type": "code",
   "execution_count": null,
   "id": "06ce7987",
   "metadata": {},
   "outputs": [],
   "source": [
    "person"
   ]
  },
  {
   "cell_type": "code",
   "execution_count": null,
   "id": "d3339693",
   "metadata": {},
   "outputs": [],
   "source": [
    "name, age, height = person"
   ]
  },
  {
   "cell_type": "code",
   "execution_count": null,
   "id": "0c209821",
   "metadata": {},
   "outputs": [],
   "source": [
    "name, _, _ = person  # throw away using `_`"
   ]
  },
  {
   "cell_type": "code",
   "execution_count": null,
   "id": "e9ffb623",
   "metadata": {},
   "outputs": [],
   "source": [
    "name, remaining = person  # too many assignments"
   ]
  },
  {
   "cell_type": "code",
   "execution_count": null,
   "id": "13180631",
   "metadata": {},
   "outputs": [],
   "source": [
    "name, *remaining = person  # collect remaining using *"
   ]
  },
  {
   "cell_type": "code",
   "execution_count": null,
   "id": "9461728a",
   "metadata": {},
   "outputs": [],
   "source": [
    "name"
   ]
  },
  {
   "cell_type": "code",
   "execution_count": null,
   "id": "782ca31e",
   "metadata": {},
   "outputs": [],
   "source": [
    "remaining"
   ]
  },
  {
   "cell_type": "code",
   "execution_count": null,
   "id": "3ac85564",
   "metadata": {},
   "outputs": [],
   "source": [
    "first, second, third = lynns_fav_tv  # works for sets too"
   ]
  },
  {
   "cell_type": "code",
   "execution_count": null,
   "id": "4f5d3346",
   "metadata": {},
   "outputs": [],
   "source": [
    "first, second, third = tv_list  # and lists"
   ]
  },
  {
   "cell_type": "code",
   "execution_count": null,
   "id": "13ed5a25",
   "metadata": {},
   "outputs": [],
   "source": []
  },
  {
   "cell_type": "code",
   "execution_count": null,
   "id": "4f487fb0",
   "metadata": {},
   "outputs": [],
   "source": []
  },
  {
   "cell_type": "markdown",
   "id": "69e0873c",
   "metadata": {},
   "source": [
    "### 2.2.4 Dictionaries\n",
    "\n",
    "Without a doubt, dict is the workhorse of Python's built-in types, and is arguably a large reason Python became successful early on.\n",
    "\n",
    "dicts are associative mappings (\"maps\"). They map a set of (unique) keys to (possibly non-unique) values.\n",
    "\n",
    "It uses curly brackets like `set`s, but inside is a mapping of keys to values (rather than just comma-separated items):"
   ]
  },
  {
   "cell_type": "code",
   "execution_count": null,
   "id": "648fb709",
   "metadata": {},
   "outputs": [],
   "source": [
    "mapping = {\"a\": 2, \"b\": 5, \"c\": 7}"
   ]
  },
  {
   "cell_type": "code",
   "execution_count": 2,
   "id": "0aeb8326",
   "metadata": {},
   "outputs": [
    {
     "data": {
      "text/plain": [
       "{'a': 2, 'b': 5, 'c': 7}"
      ]
     },
     "execution_count": 2,
     "metadata": {},
     "output_type": "execute_result"
    }
   ],
   "source": [
    "# a more readable way to define a dictionary\n",
    "mapping = {\n",
    "    \n",
    "    \n",
    "    \n",
    "    \"a\": 2,\n",
    "    \"b\": 5,\n",
    "    \"c\": 7,\n",
    "}\n",
    "mapping"
   ]
  },
  {
   "cell_type": "code",
   "execution_count": 3,
   "id": "4c12c1ee",
   "metadata": {},
   "outputs": [
    {
     "data": {
      "text/plain": [
       "2"
      ]
     },
     "execution_count": 3,
     "metadata": {},
     "output_type": "execute_result"
    }
   ],
   "source": [
    "mapping[\"a\"]\n",
    "# look up a value by its key"
   ]
  },
  {
   "cell_type": "code",
   "execution_count": 4,
   "id": "355a0f52",
   "metadata": {},
   "outputs": [
    {
     "data": {
      "text/plain": [
       "True"
      ]
     },
     "execution_count": 4,
     "metadata": {},
     "output_type": "execute_result"
    }
   ],
   "source": [
    "\"c\" in mapping  # truthiness "
   ]
  },
  {
   "cell_type": "code",
   "execution_count": null,
   "id": "dfc5d96a",
   "metadata": {},
   "outputs": [],
   "source": [
    "2 in mapping  # only looks at keys, not values"
   ]
  },
  {
   "cell_type": "code",
   "execution_count": null,
   "id": "128efb0f",
   "metadata": {},
   "outputs": [],
   "source": [
    "mapping[\"d\"]  # doesn't exist"
   ]
  },
  {
   "cell_type": "code",
   "execution_count": null,
   "id": "bc9db12a",
   "metadata": {},
   "outputs": [],
   "source": [
    "mapping[\"d\"] = -5  # mutable - can add new key/value pairings"
   ]
  },
  {
   "cell_type": "code",
   "execution_count": null,
   "id": "753bb4c2",
   "metadata": {},
   "outputs": [],
   "source": [
    "mapping[\"a\"] = 10  # or update values of a key"
   ]
  },
  {
   "cell_type": "code",
   "execution_count": null,
   "id": "4257c11f",
   "metadata": {},
   "outputs": [],
   "source": [
    "# another way to define a dict - with the built-in function\n",
    "mapping2 = dict(a=10, b=5, c=7, d=-5)  # notice the keys are not strings but arguments"
   ]
  },
  {
   "cell_type": "code",
   "execution_count": null,
   "id": "6e14e30c",
   "metadata": {},
   "outputs": [],
   "source": [
    "mapping == mapping2  # can compare to see if two dicts are equal"
   ]
  },
  {
   "cell_type": "code",
   "execution_count": null,
   "id": "11b893e3",
   "metadata": {},
   "outputs": [],
   "source": [
    "mapping3 = {\n",
    "    \"b\": 5,\n",
    "    \"d\": -5,\n",
    "    \"c\": 7,\n",
    "    \"a\": 10,\n",
    "}"
   ]
  },
  {
   "cell_type": "code",
   "execution_count": null,
   "id": "5d895f2d",
   "metadata": {},
   "outputs": [],
   "source": [
    "mapping == mapping3  # order doesn't matter when comparing"
   ]
  },
  {
   "cell_type": "code",
   "execution_count": null,
   "id": "2ea00e11",
   "metadata": {},
   "outputs": [],
   "source": [
    "mapping3  # but order is preserved (as of Python version 3.6 and later)"
   ]
  },
  {
   "cell_type": "code",
   "execution_count": null,
   "id": "7ea15658",
   "metadata": {},
   "outputs": [],
   "source": [
    "mapping.pop(\"d\")  # removes the \"d\" key/value pairing and returns it"
   ]
  },
  {
   "cell_type": "code",
   "execution_count": null,
   "id": "ad741395",
   "metadata": {},
   "outputs": [],
   "source": [
    "mapping"
   ]
  },
  {
   "cell_type": "markdown",
   "id": "f6ba688f",
   "metadata": {},
   "source": [
    "#### Exercise 1\n",
    "\n",
    "How does unpacking look like with dictionaries?"
   ]
  },
  {
   "cell_type": "code",
   "execution_count": null,
   "id": "d3537a80",
   "metadata": {},
   "outputs": [],
   "source": [
    "my_dict = {\"a\": 1, \"b\": 2, \"c\": 3}\n",
    "first, *remain = my_dict"
   ]
  },
  {
   "cell_type": "code",
   "execution_count": null,
   "id": "23e98281",
   "metadata": {},
   "outputs": [],
   "source": [
    "first  # just keys"
   ]
  },
  {
   "cell_type": "markdown",
   "id": "0f3926ab",
   "metadata": {},
   "source": [
    "#### The `dict` API\n",
    "_Some methods you can use on dictionary objects._"
   ]
  },
  {
   "cell_type": "code",
   "execution_count": null,
   "id": "2aeda69a",
   "metadata": {},
   "outputs": [],
   "source": [
    "mapping.keys()  # returns a set-like object of the dictionary's keys"
   ]
  },
  {
   "cell_type": "code",
   "execution_count": null,
   "id": "cde90992",
   "metadata": {},
   "outputs": [],
   "source": [
    "mapping.values() # returns a set-like object of the dictionary's values"
   ]
  },
  {
   "cell_type": "code",
   "execution_count": null,
   "id": "2fd0b2c7",
   "metadata": {},
   "outputs": [],
   "source": [
    "mapping.items() # returns a set-like object of the dictionary's key/value pairs"
   ]
  },
  {
   "cell_type": "markdown",
   "id": "5d702e7a",
   "metadata": {},
   "source": [
    "#### Quick Aside: dictionaries + strings\n",
    "You can also use dictionaries for string formatting!"
   ]
  },
  {
   "cell_type": "code",
   "execution_count": null,
   "id": "235fd3e4",
   "metadata": {},
   "outputs": [],
   "source": [
    "\"Hi! I'm {name} {surname}\".format(surname=surname, name=name)  # recall this from earlier"
   ]
  },
  {
   "cell_type": "code",
   "execution_count": null,
   "id": "193d82c6",
   "metadata": {},
   "outputs": [],
   "source": [
    "full_name = {\n",
    "    \"name\": \"Lynn\",\n",
    "    \"surname\": \"Root\",\n",
    "}"
   ]
  },
  {
   "cell_type": "code",
   "execution_count": null,
   "id": "a7cb492f",
   "metadata": {},
   "outputs": [],
   "source": [
    "\"Hi! My name is {name} {surname}\".format(**full_name)  # dict unpacking - like earlier"
   ]
  },
  {
   "cell_type": "code",
   "execution_count": null,
   "id": "56c0c04c",
   "metadata": {},
   "outputs": [],
   "source": [
    "\"Hi! My name is {n} {s}\".format(**full_name)  # keys must match those in `{}`"
   ]
  },
  {
   "cell_type": "markdown",
   "id": "8579f824",
   "metadata": {},
   "source": [
    "#### Interlude\n",
    "\n",
    "So far, we've dealt with `list`s, `set`s, and `tuple`s, which are quite happy to contain any Python object at all.\n",
    "\n",
    "The **values** of a `dict` are similar – they can be any Python object. `dict` keys however cannot! The precise name for objects that are suitable for use in keys are \"hashable objects\", which we'll discuss as part of Object Oriented Programming, however you may think for the moment of these objects as being synonymous with \"immutable objects\". In particular, a `list` cannot be the key in a `dict`.\n",
    "\n",
    "But, this is another case for `tuple`s! A `tuple` - since it's immutable - _can_ be a key in a dictionary."
   ]
  },
  {
   "cell_type": "code",
   "execution_count": null,
   "id": "db6c0517",
   "metadata": {},
   "outputs": [],
   "source": [
    "book_notes = {\n",
    "    # k: (page, line); v: notes\n",
    "    (5, 11): \"This passage shows that...\",\n",
    "    (25, 19): \"Here is another place where ...\",\n",
    "}"
   ]
  },
  {
   "cell_type": "code",
   "execution_count": null,
   "id": "db64c866",
   "metadata": {},
   "outputs": [],
   "source": [
    "# don't worry - Python will complain if you use lists as keys\n",
    "book_notes = {\n",
    "    # k: (page, line); v: notes\n",
    "    [5, 11]: \"This passage shows that...\",\n",
    "    [25, 19]: \"Here is another place where ...\",\n",
    "}"
   ]
  },
  {
   "cell_type": "markdown",
   "id": "18459f15",
   "metadata": {},
   "source": [
    "#### Exercise 2\n",
    "\n",
    "Make a dictionary that contains each (lowercase) letter of your full name as a key. The value for each key should be the number of times the letter appears in your name. For instance, for my name, \"lynn root\":\n",
    "\n",
    "    counts = {\"l\": 1, \"y\": 1, \"n\": 2, \"r\": 1, \"o\": 2, \"t\": 1}"
   ]
  },
  {
   "cell_type": "code",
   "execution_count": null,
   "id": "aa8b15af",
   "metadata": {},
   "outputs": [],
   "source": [
    "counts = {\"l\": 1, \"y\": 1, \"n\": 2, \"r\": 1, \"o\": 2, \"t\": 1}"
   ]
  },
  {
   "cell_type": "markdown",
   "id": "709eda13",
   "metadata": {},
   "source": [
    "## 2.3 Python Modules\n",
    "\n",
    "You can think of a module informally as being a \"file with Python code in it\". Strictly speaking, this isn't correct, and a module is a kind of object just like any other we've seen – `int`s, `list`s, `dict`s, et cetera. But mentally it's a good model for the common case.\n",
    "\n",
    "In the case of Jupyter notebooks, you can again informally consider an entire notebook to be similar to a Python module.\n",
    "\n",
    "We call a set of related modules a library, or sometimes a full _application_.\n",
    "\n",
    "Python uses modules (again informally, files) to group together related code – so when writing your own Python code, you often may want to break it up into multiple files which contain related pieces of functionality. But additionally, we've so far been using Python's \"built-in\" objects – which are objects we can use without additional code because they're pre-imported and available for us.\n",
    "\n",
    "Python however has an extensive set of modules which are installed with it, not pre-imported but which are easily accessible. We call the most common set of these modules its **standard library**. Any computer with Python installed will have these modules as well."
   ]
  },
  {
   "cell_type": "code",
   "execution_count": null,
   "id": "6dc1e4f2",
   "metadata": {},
   "outputs": [],
   "source": [
    "my_name = \"Lynn Root\"\n",
    "my_name = my_name.lower().replace(\" \", \"\")  # data clean up"
   ]
  },
  {
   "cell_type": "code",
   "execution_count": null,
   "id": "51658d23",
   "metadata": {},
   "outputs": [],
   "source": [
    "import collections  # module"
   ]
  },
  {
   "cell_type": "code",
   "execution_count": null,
   "id": "57d16b60",
   "metadata": {},
   "outputs": [],
   "source": [
    "# \"Counter\" class is defined in the \"collections\" module\n",
    "# and `.` is how we access what's available in that module\n",
    "char_count = collections.Counter(my_name)"
   ]
  },
  {
   "cell_type": "code",
   "execution_count": null,
   "id": "08cf9800",
   "metadata": {},
   "outputs": [],
   "source": [
    "char_count"
   ]
  },
  {
   "cell_type": "code",
   "execution_count": null,
   "id": "da9d8563",
   "metadata": {},
   "outputs": [],
   "source": [
    "counts == char_count"
   ]
  },
  {
   "cell_type": "markdown",
   "id": "bcf6e0fb",
   "metadata": {},
   "source": [
    "This module was the [`collections` standard library module](https://docs.python.org/3/library/collections.html). It contains:\n",
    "\n",
    "> specialized container datatypes providing alternatives to Python’s general purpose built-in containers\n"
   ]
  },
  {
   "cell_type": "code",
   "execution_count": null,
   "id": "e7a11e52",
   "metadata": {},
   "outputs": [],
   "source": [
    "# before we imported all of the \"collections\" module.\n",
    "# we can also import specific objects from a module\n",
    "from collections import namedtuple"
   ]
  },
  {
   "cell_type": "code",
   "execution_count": null,
   "id": "4d464f37",
   "metadata": {},
   "outputs": [],
   "source": [
    "Person = namedtuple(\"Person\", [\"name\", \"age\", \"height\"])"
   ]
  },
  {
   "cell_type": "code",
   "execution_count": null,
   "id": "2ce7e4f8",
   "metadata": {},
   "outputs": [],
   "source": [
    "myself = Person(\"lynn\", 35, 157.5)"
   ]
  },
  {
   "cell_type": "code",
   "execution_count": null,
   "id": "6d8caa45",
   "metadata": {},
   "outputs": [],
   "source": [
    "myself"
   ]
  },
  {
   "cell_type": "code",
   "execution_count": null,
   "id": "8070d8ef",
   "metadata": {},
   "outputs": [],
   "source": [
    "myself[1]  # same like a tuple"
   ]
  },
  {
   "cell_type": "code",
   "execution_count": null,
   "id": "e80c595c",
   "metadata": {},
   "outputs": [],
   "source": [
    "myself.age  # but now can look up via the name of the attribute on the instance"
   ]
  },
  {
   "cell_type": "markdown",
   "id": "63cc19db",
   "metadata": {},
   "source": [
    "There is a huge list of [standard library modules](https://docs.python.org/3.8/library/index.html).\n",
    "\n",
    "**Familiarizing yourself with a number of key modules is very much recommended** and will often be needed both in this course and in any future programming you do in Python.\n",
    "\n",
    "Here are a short list of particularly noteworthy modules, only some of which we'll cover further in detail:\n",
    "\n",
    "* `re` - an implementation of \"regular expressions\"\n",
    "* `datetime` - manipulation of objects representing dates and times\n",
    "* `math` - additional commonly used mathematical functions\n",
    "* `random` - an implementation of (pseudo-) random number generation functionality\n",
    "* `pathlib` - file path manipulation\n",
    "* `csv` - CSV (comma-separated-value) file manipulation\n",
    "* `json` - JSON format manipulation\n",
    "* `os` and `sys` - interaction with your operating system and general computing environment"
   ]
  },
  {
   "cell_type": "markdown",
   "id": "7569caca",
   "metadata": {},
   "source": [
    "### Anaconda\n",
    "\n",
    "Beyond the standard library, we in this class are also making use of Anaconda – which comes with an additional set of libraries ([depending on your operating system](https://docs.anaconda.com/anaconda/packages/pkg-docs/)).\n",
    "\n",
    "These libraries are generally available and installable separately, but Anaconda pre-installs many useful libraries for us."
   ]
  },
  {
   "cell_type": "code",
   "execution_count": null,
   "id": "62a9627c",
   "metadata": {},
   "outputs": [],
   "source": [
    "import requests  # not in the standard library, installed with Anaconda\n",
    "\n",
    "response = requests.get(\"https://text.npr.org\")\n",
    "print(response.text)"
   ]
  },
  {
   "cell_type": "markdown",
   "id": "270205d0",
   "metadata": {},
   "source": [
    "### Installing Additional Modules\n",
    "\n",
    "If a piece of functionality you need isn't either in the standard library, nor bundled with Anaconda (or if you happen to not be using Anaconda in the future), there is an immense set of libraries available to you.\n",
    "\n",
    "The most common place libraries are uploaded to (and installable from) is a central index of packages known as [PyPI](https://pypi.org/) (pronounced \"pie-pee-eye\", _not_ \"pie-pie\" - although people often interchange the pronunciation).\n",
    "\n",
    "We can install a package from PyPI using a package manager, which manages installation of Python packages. The concept of a package manager extends even beyond Python, which we'll discuss in future lectures. Within Python, the most commonly used package managers are `pip` and `conda`. You might remember `pip` from your first homework. It's the most common, most popular used. `conda` is functionally very similar to `pip`, and comes \"free\" when Anaconda is installed. `conda` is used more in the research subdomains of Python programming.\n",
    "\n",
    "_Side note: `pip` stands for \"python install python\"._\n",
    "\n",
    "Here's an installation of a package called [`httpx`](https://pypi.org/project/httpx/), which is an [open-source package maintained by volunteers](https://github.com/encode/httpx):"
   ]
  },
  {
   "cell_type": "code",
   "execution_count": null,
   "id": "7fa860d9",
   "metadata": {
    "scrolled": true
   },
   "outputs": [],
   "source": [
    "# special syntax within Jupyter that executes - it's non-Python code\n",
    "!pip install httpx "
   ]
  },
  {
   "cell_type": "code",
   "execution_count": null,
   "id": "54ad8fdd",
   "metadata": {},
   "outputs": [],
   "source": [
    "import httpx  # this would error if the step above didn't happen\n",
    "\n",
    "response = httpx.get(\"https://text.npr.org\")\n",
    "print(response.text)"
   ]
  },
  {
   "cell_type": "markdown",
   "id": "c052dde1",
   "metadata": {},
   "source": [
    "`requests` and `httpx` essentially does the same thing for us here, and it's okay to use either. But one may reach for one library over another because of certain features, performance, maybe they like how to use one over the other even if the result is the same."
   ]
  },
  {
   "cell_type": "markdown",
   "id": "bf229fca",
   "metadata": {},
   "source": [
    "## 2.4 Flow Control"
   ]
  },
  {
   "cell_type": "markdown",
   "id": "81520ac6",
   "metadata": {},
   "source": [
    "### 2.4.1 Looping\n",
    "\n",
    "We've learned what a [_sequence_](https://docs.python.org/3/library/stdtypes.html#typesseq) is. Specifically, it is a data type which contains a sequence of elements, and supports operations like indexing and getting lengths.\n",
    "\n",
    "An [iterable](https://docs.python.org/3/glossary.html#term-iterable) is a more general type of object – one which may or may not support indexing or `len()`, but which can be iterated over as above in a `for` loop."
   ]
  },
  {
   "cell_type": "code",
   "execution_count": null,
   "id": "10d7d42c",
   "metadata": {},
   "outputs": [],
   "source": [
    "my_list = [1, 2, 3]\n",
    "for x in my_list:\n",
    "    sqrd = x ** 2\n",
    "    to_print = f\"{x}: {sqrd}\"\n",
    "    print(to_print)"
   ]
  },
  {
   "cell_type": "code",
   "execution_count": null,
   "id": "d6e609da",
   "metadata": {},
   "outputs": [],
   "source": [
    "for tv_show in lynns_fav_tv:\n",
    "    print(tv_show, len(tv_show))"
   ]
  },
  {
   "cell_type": "markdown",
   "id": "55d0bdff",
   "metadata": {},
   "source": [
    "#### Interlude\n",
    "\n",
    "A `set` is an iterable (see above), but not a sequence. All sequences are iterables. \n",
    "\n",
    "Consider each of the other types we've learned so far. Have we seen any other iterables which are not sequences?"
   ]
  },
  {
   "cell_type": "code",
   "execution_count": null,
   "id": "e388b24f",
   "metadata": {},
   "outputs": [],
   "source": [
    "# dictionaries are not sequencies but can be looped over\n",
    "book_notes = {\n",
    "    (5, 11): \"This passage shows that...\",\n",
    "    (25, 19): \"Here is another place where ...\",\n",
    "}"
   ]
  },
  {
   "cell_type": "code",
   "execution_count": null,
   "id": "21000cc4",
   "metadata": {},
   "outputs": [],
   "source": [
    "for key, value in book_notes.items():\n",
    "    print(f\"location: {key}\")\n",
    "    print(f\"notes: {value}\")"
   ]
  },
  {
   "cell_type": "code",
   "execution_count": null,
   "id": "494f1e78",
   "metadata": {},
   "outputs": [],
   "source": [
    "# can use unpacking for the key with the tuple\n",
    "for (page, line), note in book_notes.items():\n",
    "    print(f\"page: {page}, line: {line}\")\n",
    "    print(f\"notes: {note}\")"
   ]
  },
  {
   "cell_type": "code",
   "execution_count": null,
   "id": "55cbbc69",
   "metadata": {},
   "outputs": [],
   "source": []
  },
  {
   "cell_type": "code",
   "execution_count": null,
   "id": "e8b5c7b6",
   "metadata": {},
   "outputs": [],
   "source": [
    "# iterate over characters within a string;\n",
    "# use the built-in `enumerate` to get the index along with the item\n",
    "\n",
    "greeting = \"Hi! My name is Lynn Root\"\n",
    "\n",
    "for item, char in enumerate(greeting):\n",
    "    print(f\"{item}: {char}\")"
   ]
  },
  {
   "cell_type": "code",
   "execution_count": null,
   "id": "a4e7e668",
   "metadata": {},
   "outputs": [],
   "source": [
    "# can use the built-in `range` function to generate a list\n",
    "for n in range(5):  # from 0 up to but not including 5\n",
    "    print(n)"
   ]
  },
  {
   "cell_type": "code",
   "execution_count": null,
   "id": "a4117c9e",
   "metadata": {},
   "outputs": [],
   "source": [
    "for n in range(2, 14, 2): # start, stop, step\n",
    "    print(n)"
   ]
  },
  {
   "cell_type": "code",
   "execution_count": null,
   "id": "aca57379",
   "metadata": {},
   "outputs": [],
   "source": [
    "# another type of loop: a \"while\" loop\n",
    "\n",
    "n = 2\n",
    "while n < 17:\n",
    "    print(n)\n",
    "    n = n ** 2"
   ]
  },
  {
   "cell_type": "markdown",
   "id": "12c7be2b",
   "metadata": {},
   "source": [
    "### 2.4.2 Conditional Flow\n",
    "\n",
    "Using `if`, `elif`, and `else`"
   ]
  },
  {
   "cell_type": "code",
   "execution_count": null,
   "id": "17a15b2d",
   "metadata": {},
   "outputs": [],
   "source": [
    "n = 2\n",
    "if n == 3:\n",
    "    print(\"n is equal to 3\")\n",
    "else:\n",
    "    print(\"n is not equal 3\")"
   ]
  },
  {
   "cell_type": "code",
   "execution_count": null,
   "id": "fbe18af2",
   "metadata": {},
   "outputs": [],
   "source": [
    "n = 7\n",
    "while n != 1:\n",
    "    print(n)\n",
    "    if n % 2:\n",
    "        n = 3 * n + 1\n",
    "    else:\n",
    "        n = n // 2"
   ]
  },
  {
   "cell_type": "code",
   "execution_count": null,
   "id": "cedca8c1",
   "metadata": {},
   "outputs": [],
   "source": [
    "n"
   ]
  },
  {
   "cell_type": "code",
   "execution_count": null,
   "id": "29c57c24",
   "metadata": {},
   "outputs": [],
   "source": [
    "for x in range(10):\n",
    "    if x % 2 == 0:\n",
    "        continue  # stop processing this iteration and continue to next iteration\n",
    "    print(x)"
   ]
  },
  {
   "cell_type": "code",
   "execution_count": null,
   "id": "241353bc",
   "metadata": {},
   "outputs": [],
   "source": [
    "for x in range(10):\n",
    "    if x % 2 == 0:\n",
    "        continue\n",
    "    elif x > 7:\n",
    "        break  # stop looping entirely\n",
    "    print(x)"
   ]
  },
  {
   "cell_type": "code",
   "execution_count": null,
   "id": "e7df4fe4",
   "metadata": {},
   "outputs": [],
   "source": [
    "# the keyword \"pass\" can be used as a placeholder\n",
    "for x in range(10):\n",
    "    if x % 2 == 0:\n",
    "        continue\n",
    "    elif x > 7:\n",
    "        pass  # TODO: remember to implement this!\n",
    "    print(x)"
   ]
  },
  {
   "cell_type": "code",
   "execution_count": null,
   "id": "aece368d",
   "metadata": {},
   "outputs": [],
   "source": [
    "# You can use \"else\" with \"for\" loops, too.\n",
    "\n",
    "for x in range(10):\n",
    "    if x % 2 == 0:\n",
    "        continue  # stop processing this iteration and continue to next iteration\n",
    "    print(x)\n",
    "else:\n",
    "    print(\"done processing!\")"
   ]
  },
  {
   "cell_type": "code",
   "execution_count": null,
   "id": "d6248809",
   "metadata": {},
   "outputs": [],
   "source": [
    "for x in range(10):\n",
    "    if x % 2 == 0:\n",
    "        continue\n",
    "    elif x > 7:\n",
    "        print(\"breaking the loop\")\n",
    "        break\n",
    "    print(x)\n",
    "else:\n",
    "    print(f\"last x value: {x}\")  # does not get executed"
   ]
  },
  {
   "cell_type": "markdown",
   "id": "96974597",
   "metadata": {},
   "source": [
    "## 2.5 Functions\n",
    "\n",
    "Up until now, we've been using functions that have been defined for us. But we can define our own as well!\n",
    "\n",
    "Unlike other languages some may be familiar with, Python makes use of whitespace, rather than brackets. With"
   ]
  },
  {
   "cell_type": "markdown",
   "id": "ae878423",
   "metadata": {},
   "source": [
    "### 2.5.1 Defining Functions"
   ]
  },
  {
   "cell_type": "code",
   "execution_count": null,
   "id": "5142716a",
   "metadata": {},
   "outputs": [],
   "source": [
    "def greet():\n",
    "    print(\"Hi!\")  # inside function; indented with 4 spaces\n",
    "    print(\"I am inside the function called 'greet'.\")"
   ]
  },
  {
   "cell_type": "code",
   "execution_count": null,
   "id": "c26b9356",
   "metadata": {},
   "outputs": [],
   "source": [
    "greet()"
   ]
  },
  {
   "cell_type": "code",
   "execution_count": null,
   "id": "25654ad3",
   "metadata": {},
   "outputs": [],
   "source": [
    "# we can (re)define the function to take an argument\n",
    "def greet(name):\n",
    "    print(f\"Hi {name}!\")\n",
    "    print(\"I am inside the function called 'greet'.\")"
   ]
  },
  {
   "cell_type": "code",
   "execution_count": null,
   "id": "5f636fdd",
   "metadata": {},
   "outputs": [],
   "source": [
    "greet(\"Lynn\")"
   ]
  },
  {
   "cell_type": "code",
   "execution_count": null,
   "id": "ecc48535",
   "metadata": {},
   "outputs": [],
   "source": [
    "g = greet(\"Lynn\") "
   ]
  },
  {
   "cell_type": "code",
   "execution_count": null,
   "id": "ab0d22f7",
   "metadata": {},
   "outputs": [],
   "source": [
    "# What's the return value of g? Why is it None?\n",
    "g"
   ]
  },
  {
   "cell_type": "code",
   "execution_count": null,
   "id": "a205cd48",
   "metadata": {},
   "outputs": [],
   "source": [
    "# define a function that takes 2 arguments, and returns a value\n",
    "def add(x, y):\n",
    "    return x + y"
   ]
  },
  {
   "cell_type": "code",
   "execution_count": null,
   "id": "02496181",
   "metadata": {},
   "outputs": [],
   "source": [
    "add(2, 2)  # note: this is Jupyter automatically showing us the result"
   ]
  },
  {
   "cell_type": "code",
   "execution_count": null,
   "id": "06b88f80",
   "metadata": {},
   "outputs": [],
   "source": [
    "result = add(3, 4)"
   ]
  },
  {
   "cell_type": "code",
   "execution_count": null,
   "id": "4b3441d2",
   "metadata": {},
   "outputs": [],
   "source": [
    "result  # the returned value of add"
   ]
  },
  {
   "cell_type": "markdown",
   "id": "93019871",
   "metadata": {},
   "source": [
    "#### Exercise 3\n",
    "\n",
    "Recall last week's lecture, we had the following exercise:\n",
    "\n",
    "> Choose any real number. Write code to double that number. Add six to that. Then divide by two. Finally, subtract your original number from the result of dividing by two. You should get 3.0.\n",
    "\n",
    "Then later we replaced the original number with a variable.\n",
    "\n",
    "    x = 6\n",
    "    (((x * 2) + 6) / 2) - x\n",
    "    \n",
    "Now let's make that into a function where it takes in one argument - the original number. And it returns one float - the result."
   ]
  },
  {
   "cell_type": "code",
   "execution_count": null,
   "id": "5b315a7f",
   "metadata": {},
   "outputs": [],
   "source": [
    "def exercise(n):\n",
    "    result = (((n * 2) + 6) / 2) - n\n",
    "    return result"
   ]
  },
  {
   "cell_type": "markdown",
   "id": "17563988",
   "metadata": {},
   "source": [
    "#### Exercise 4\n",
    "\n",
    "Now, take function you just defined, and verify that it returns `3.0` for all numbers between `-10000` and `10000`. As soon as you find a number that does not return 3.0, stop testing other numbers. But, if you do indeed find that all those numbers do return 3.0, then print the string `\"Success!\"`"
   ]
  },
  {
   "cell_type": "code",
   "execution_count": null,
   "id": "876cacd7",
   "metadata": {},
   "outputs": [],
   "source": [
    "for x in range(-10000, 10001):  # remember: the end of the range is exclusive\n",
    "    result = exercise(x)\n",
    "    if result != 3.0:\n",
    "        break\n",
    "else:\n",
    "    print(\"Success!\")  # should not get executed if `result != 3.0`"
   ]
  },
  {
   "cell_type": "markdown",
   "id": "476bf937",
   "metadata": {},
   "source": [
    "### 2.5.2 Scope\n",
    "\n",
    "In Python, there is this thing called \"scopes\". The scope of an object in Python refers to its accessibility. To access the particular variable in our code, the scope must be defined as it cannot be accessed from anywhere in the program. The particular coding region where variables are visible is known as scope.\n",
    "\n",
    "There are 4 types of \"scope\" in Python:\n",
    "* built-in\n",
    "* global\n",
    "* local\n",
    "* enclosed\n",
    "\n",
    "Build-in scope, you should already be familiar with. The functions like `print`, `type`, `help`, etc are all built-in scope."
   ]
  },
  {
   "cell_type": "code",
   "execution_count": null,
   "id": "e0592efe",
   "metadata": {},
   "outputs": [],
   "source": [
    "# example of global scope\n",
    "a_list = [1, 2, 3]\n",
    "\n",
    "def print_a_list():\n",
    "    print(a_list)\n",
    "\n",
    "print_a_list()"
   ]
  },
  {
   "cell_type": "markdown",
   "id": "07cf263e",
   "metadata": {},
   "source": [
    "Defining our own functions can introduce scope:"
   ]
  },
  {
   "cell_type": "code",
   "execution_count": null,
   "id": "74e246ed",
   "metadata": {},
   "outputs": [],
   "source": [
    "# example of local scope\n",
    "\n",
    "result = [2, 4, 6]\n",
    "\n",
    "def calculate(): \n",
    "    result = \"a very important result\"\n",
    "    print(\"result locally:\", result)\n",
    "    return result\n",
    "\n",
    "returned = calculate()\n",
    "print(\"returned:\", returned)\n",
    "print(\"result globally:\", result)"
   ]
  },
  {
   "cell_type": "code",
   "execution_count": null,
   "id": "c23355b5",
   "metadata": {},
   "outputs": [],
   "source": [
    "# example of enclosed scope\n",
    "\n",
    "def outer_func():\n",
    "    a = 1\n",
    "    \n",
    "    def inner_func(): # define a function w/i a function\n",
    "        a = 2\n",
    "        print(f\"inner: {a}\")\n",
    "        \n",
    "    inner_func()  # call the inner func within outer func\n",
    "    print(f\"outer: {a}\")\n",
    "\n",
    "outer_func()"
   ]
  },
  {
   "cell_type": "markdown",
   "id": "7903773b",
   "metadata": {},
   "source": [
    "## 2.6 Comprehensions\n",
    "\n",
    "Let's revisit our for loops. We can create dynamic lists with a single line of code with what's called a list comprehension."
   ]
  },
  {
   "cell_type": "code",
   "execution_count": null,
   "id": "9f97a7f1",
   "metadata": {},
   "outputs": [],
   "source": [
    "# original\n",
    "squares = []\n",
    "for x in range(10):\n",
    "    squares.append(x ** 2)\n",
    "squares"
   ]
  },
  {
   "cell_type": "code",
   "execution_count": null,
   "id": "25e18baf",
   "metadata": {},
   "outputs": [],
   "source": [
    "# using a list comprehension\n",
    "squares = [x ** 2 for x in range(10)]\n",
    "squares"
   ]
  },
  {
   "cell_type": "code",
   "execution_count": null,
   "id": "17362dfa",
   "metadata": {},
   "outputs": [],
   "source": [
    "# nested comprehensions\n",
    "# original \n",
    "combinations = []\n",
    "for x in [1, 2, 3]:\n",
    "    for y in [3, 1, 4]:\n",
    "        if x != y:\n",
    "            combinations.append((x, y))\n",
    "combinations"
   ]
  },
  {
   "cell_type": "code",
   "execution_count": null,
   "id": "69988e88",
   "metadata": {},
   "outputs": [],
   "source": [
    "# the order of for & if statements are the same as the original\n",
    "combinations = [(x, y) for x in [1, 2, 3] for y in [3, 1, 4] if x != y]\n",
    "combinations"
   ]
  },
  {
   "cell_type": "markdown",
   "id": "9b12fade",
   "metadata": {},
   "source": [
    "We can also do nested list comprehensions"
   ]
  },
  {
   "cell_type": "code",
   "execution_count": null,
   "id": "7510414c",
   "metadata": {},
   "outputs": [],
   "source": [
    "# a list of lists\n",
    "matrix = [\n",
    "    [1, 2, 3, 4],\n",
    "    [5, 6, 7, 8],\n",
    "    [9, 10, 11, 12],\n",
    "]"
   ]
  },
  {
   "cell_type": "code",
   "execution_count": null,
   "id": "27ed26da",
   "metadata": {},
   "outputs": [],
   "source": [
    "# generate a new matrix that transposes original matrix\n",
    "[[row[i] for row in matrix] for i in range(4)]"
   ]
  },
  {
   "cell_type": "code",
   "execution_count": null,
   "id": "4da8971d",
   "metadata": {},
   "outputs": [],
   "source": [
    "# equivalent to:\n",
    "transposed = []\n",
    "for i in range(4):\n",
    "    transposed.append([row[i] for row in matrix])\n",
    "transposed"
   ]
  },
  {
   "cell_type": "code",
   "execution_count": null,
   "id": "36645003",
   "metadata": {},
   "outputs": [],
   "source": [
    "# an aside: this would be even more more concise:\n",
    "list(zip(*matrix))"
   ]
  },
  {
   "cell_type": "markdown",
   "id": "64df43c1",
   "metadata": {},
   "source": [
    "For the above example - read more on [unpacking argument lists](https://docs.python.org/3/tutorial/controlflow.html#tut-unpacking-arguments).\n",
    "\n",
    "We can also use dictionary comprehension to create dynamic dictionaries:"
   ]
  },
  {
   "cell_type": "code",
   "execution_count": null,
   "id": "383b6458",
   "metadata": {},
   "outputs": [],
   "source": [
    "dict1 = {'a': 1, 'b': 2, 'c': 3, 'd': 4, 'e': 5}\n",
    "double_dict1 = {k: v * 2 for (k, v) in dict1.items()}\n",
    "double_dict1"
   ]
  },
  {
   "cell_type": "markdown",
   "id": "07e4ef81",
   "metadata": {},
   "source": [
    "Note that not every for-loop can be condensed in to a comprehension; but every comprehension can be expanded out into a for-loop."
   ]
  },
  {
   "cell_type": "markdown",
   "id": "744b3ddd",
   "metadata": {},
   "source": [
    "## 2.7 Object Identity versus Equality"
   ]
  },
  {
   "cell_type": "code",
   "execution_count": null,
   "id": "c8340e45",
   "metadata": {},
   "outputs": [],
   "source": [
    "first = [1, 2, 3]\n",
    "second = [1, 2, 3]"
   ]
  },
  {
   "cell_type": "code",
   "execution_count": null,
   "id": "1c6c76b4",
   "metadata": {},
   "outputs": [],
   "source": [
    "first == second  # equality"
   ]
  },
  {
   "cell_type": "code",
   "execution_count": null,
   "id": "8ffc21aa",
   "metadata": {},
   "outputs": [],
   "source": [
    "first is second  # identity"
   ]
  },
  {
   "cell_type": "code",
   "execution_count": null,
   "id": "12798386",
   "metadata": {},
   "outputs": [],
   "source": [
    "# `id()` returns the identity of the object - the memory address\n",
    "id(first)"
   ]
  },
  {
   "cell_type": "code",
   "execution_count": null,
   "id": "51c3f8b7",
   "metadata": {},
   "outputs": [],
   "source": [
    "id(second)"
   ]
  },
  {
   "cell_type": "code",
   "execution_count": null,
   "id": "049aeabe",
   "metadata": {},
   "outputs": [],
   "source": [
    "third = first\n",
    "first is third"
   ]
  },
  {
   "cell_type": "code",
   "execution_count": null,
   "id": "9ac718cd",
   "metadata": {},
   "outputs": [],
   "source": [
    "id(first)"
   ]
  },
  {
   "cell_type": "code",
   "execution_count": null,
   "id": "58949039",
   "metadata": {},
   "outputs": [],
   "source": [
    "id(third)"
   ]
  },
  {
   "cell_type": "markdown",
   "id": "3d48ec92",
   "metadata": {},
   "source": [
    "#### Bottom-line advice\n",
    "\n",
    "In 99.9% of cases, use `is` only with `None`, and there only because it's stylistically preferred.\n",
    "\n",
    "Try to never care whether two objects are precisely the same object \"underneath\", and rather instead whether they should be considered equal.\n",
    "\n",
    "You may additionally find [this wonderful article](https://nedbatchelder.com/text/names.html) by Ned Batchelder helpful to read."
   ]
  },
  {
   "cell_type": "markdown",
   "id": "620aa4c4",
   "metadata": {},
   "source": [
    "## 2.8 Summary\n",
    "\n",
    "As a quick summary, we've now covered:\n",
    "\n",
    "* Various ways to format strings;\n",
    "* More built-in types: `set`, `tuple`, `dict`;\n",
    "* How to control the flow of our logic with `for`, `while`, `if`, `elif`, `else`, `continue`, `break`, and `pass`;\n",
    "* How to employ comprehensions for a more concise way of created lists and dictionaries\n",
    "* Defining and calling our own functions and what is in & out of scope\n",
    "* Importing additional functionality we may need."
   ]
  },
  {
   "cell_type": "code",
   "execution_count": null,
   "id": "251425c3",
   "metadata": {},
   "outputs": [],
   "source": []
  }
 ],
 "metadata": {
  "kernelspec": {
   "display_name": "Python 3",
   "language": "python",
   "name": "python3"
  },
  "language_info": {
   "codemirror_mode": {
    "name": "ipython",
    "version": 3
   },
   "file_extension": ".py",
   "mimetype": "text/x-python",
   "name": "python",
   "nbconvert_exporter": "python",
   "pygments_lexer": "ipython3",
   "version": "3.8.8"
  }
 },
 "nbformat": 4,
 "nbformat_minor": 5
}
