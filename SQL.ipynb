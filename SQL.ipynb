{
 "cells": [
  {
   "cell_type": "markdown",
   "id": "577cd9bb",
   "metadata": {},
   "source": [
    "Please read the following instructions thoroughly. Neglecting to do so may result in missed points.\n",
    "\n",
    "### Preamble\n",
    "**Reminder**: Homeworks are due by 11:59PM ET on Sundays.\n",
    "\n",
    "Before you turn this problem set in, make sure everything runs as expected. First, **restart the kernel** (in the menubar, select Kernel$\\rightarrow$Restart) and then **run all cells** (in the menubar, select Cell$\\rightarrow$Run All).\n",
    "\n",
    "### Naming conventions\n",
    "Be sure the filename of your notebook is in the following form:\n",
    "\n",
    "    <uni>_<assignment>_<details [optional]>.<extension>\n",
    "    \n",
    "For example:\n",
    "\n",
    "    lr3086_hw01.ipynb\n",
    "    lr3086_hw01_complete.ipynb\n",
    "    LR3086_HW01.ipynb\n",
    "    \n",
    "To rename a notebook, in the menubar, select File$\\rightarrow$Rename. The extension for notebook files, `.ipynb`, will already be appended to the filename, but will be hidden from view within the notebook.\n",
    "    \n",
    "This naming format allows for autograding of all assignments. If your files are not named with this format, you should expect a grade of zero for the assignment.\n",
    "\n",
    "Courseworks may rename your file to something like `lr3086_hw0-1.ipynb` if you resubmit your assignment. This is perfectly fine.\n",
    "\n",
    "### What Format To Submit In\n",
    "\n",
    "Most homeworks are in Jupyter notebooks. Once you've finished your homework, unless specified otherwise, please download your work as an `.ipynb` file to your local machine, then upload it to Courseworks when complete (in the menubar, select File$\\rightarrow$Download as$\\rightarrow$Notebook).\n",
    "\n",
    "**Failure to submit a Jupyter notebook will result in a grade of zero for the assignment.**\n",
    "\n",
    "### Grading\n",
    "\n",
    "Possible points on late assignments are deducted by 50% for each day they are late. For example, if you get 80% of the total possible credits on a homework but hand in that homework a day late, you would get 40%. Assignments two days late get zero points.\n",
    "\n",
    "Once solutions are posted and graded assignments are handed back, students have 1 week to bring their grading discrepancies to a CA for consideration of possible grading errors.\n",
    "\n",
    "Because grading is automated, please delete (or comment out) the `raise NotImplmeneted` code before attempting a problem.\n",
    "\n",
    "Empty un-editable cells in an assignment are there for a reason. They will be filled with tests by the automatic grader. Please do not attempt to remove them.\n",
    "\n",
    "### Getting Help\n",
    "\n",
    "Asking for help is a great way to increase your chance of success. However there are some rules. When asking for help (especially from a fellow student), *you can show your helper your code but you can not view theirs*. You work needs to be your own. You can not post screenshots of your current work to Ed Discussions or other tools used for getting help.\n",
    "\n",
    "If you need to reach out to a CA for help, please do so via Ed Discussions and not via email. Answers given via Ed Discussions will help you as well as other students. Thus, emails will always have a lower priority for response than Ed Discussions questions. If you do email the CA, please make a note of what section you are in. This helps us identify you in Courseworks faster.\n",
    "\n",
    "Finally, if you do not get a repsonse from a CA within 48 hours, you may email the professor.\n"
   ]
  },
  {
   "cell_type": "markdown",
   "id": "f3f622f6",
   "metadata": {},
   "source": [
    "---"
   ]
  },
  {
   "cell_type": "markdown",
   "id": "891b1eed",
   "metadata": {
    "deletable": false,
    "editable": false,
    "nbgrader": {
     "cell_type": "markdown",
     "checksum": "5c990bbbcfca481d4e50a07186d56824",
     "grade": false,
     "grade_id": "cell-3047f1eeb7b62026",
     "locked": true,
     "schema_version": 3,
     "solution": false,
     "task": false
    }
   },
   "source": [
    "# Homework 10: SQL\n",
    "\n",
    "Total questions: 5<br/>\n",
    "Total points: 8\n",
    "\n",
    "### FYI\n",
    "\n",
    "In class, we used paths on your local machine outside of the notebook to persist data, but here, we'll use a special argument that `sqlite3` has which stores the database in-memory -- in otherwords, the database will live only so long as you're running the notebook. Afterwards, it will be thrown away. Usually this argument is useful when experimenting, given that as we discussed, it is persistence that often makes databases useful. We use it here however simply to avoid needing to upload multiple files to Courseworks -- everything you need is here.\n",
    "\n",
    "If for any reason you need to discard the contents of your database to start over, you may therefore do so by simply restarting the \"kernel\" of this notebook, which you can do by clicking the restart button in the toolbar (it's 2 buttons to the right of the \"Run\" button) or in the Kernel menu."
   ]
  },
  {
   "cell_type": "markdown",
   "id": "53e2d463",
   "metadata": {
    "deletable": false,
    "editable": false,
    "nbgrader": {
     "cell_type": "markdown",
     "checksum": "71f90be1522b5e45a1f449ec92fb0c5f",
     "grade": false,
     "grade_id": "cell-ddf3605e4d796063",
     "locked": true,
     "schema_version": 3,
     "solution": false,
     "task": false
    }
   },
   "source": [
    "## Question 1\n",
    "\n",
    "We'll start by creating some tables to store our data -- we'll first have one containing some product information.\n",
    "\n",
    "Products have:\n",
    "\n",
    "* a name (`TEXT`)\n",
    "* a description (`TEXT`)\n",
    "* a unit cost stored in cents (`INTEGER`)\n",
    "\n",
    "and of course we also add an id column to identify them.\n",
    "\n",
    "The SQL to create each table is below. Execute it on the connection provided below to create the table.\n",
    "\n",
    "```sql\n",
    "CREATE TABLE IF NOT EXISTS products (\n",
    "    id INTEGER PRIMARY KEY,\n",
    "    name TEXT,\n",
    "    description TEXT,\n",
    "    unit_cost_cents INTEGER\n",
    ")\n",
    "```\n",
    "\n",
    "[0.5 points]"
   ]
  },
  {
   "cell_type": "code",
   "execution_count": 1,
   "id": "749e6d51",
   "metadata": {
    "deletable": false,
    "nbgrader": {
     "cell_type": "code",
     "checksum": "faf4b5b154832b6dd0a0f7af0419552d",
     "grade": false,
     "grade_id": "cell-6cb37374031fab02",
     "locked": false,
     "schema_version": 3,
     "solution": true,
     "task": false
    }
   },
   "outputs": [],
   "source": [
    "# Don't not touch these lines!\n",
    "import sqlite3\n",
    "connection = sqlite3.connect(\":memory:\")  # this is our in-memory database, not stored on your hard drive\n",
    "\n",
    "with connection:\n",
    "    connection.execute(\n",
    "        \"\"\"\n",
    "        CREATE TABLE IF NOT EXISTS products (\n",
    "            id INTEGER PRIMARY KEY,\n",
    "            name TEXT,\n",
    "            description TEXT,\n",
    "            unit_cost_cents INTEGER\n",
    "        )\n",
    "        \"\"\"\n",
    "    )"
   ]
  },
  {
   "cell_type": "code",
   "execution_count": 2,
   "id": "63b53a20",
   "metadata": {
    "deletable": false,
    "editable": false,
    "nbgrader": {
     "cell_type": "code",
     "checksum": "974ccc89a180a75ee536a076ec068d1a",
     "grade": true,
     "grade_id": "cell-9b9a70f1448562f9",
     "locked": true,
     "points": 0.5,
     "schema_version": 3,
     "solution": false,
     "task": false
    }
   },
   "outputs": [],
   "source": [
    "# CELL INTENTIONALLY LEFT BLANK - DO NOT ALTER OR DELETE"
   ]
  },
  {
   "cell_type": "markdown",
   "id": "6acbd280",
   "metadata": {
    "deletable": false,
    "editable": false,
    "nbgrader": {
     "cell_type": "markdown",
     "checksum": "7072930769efae36ab498f2634f2afd9",
     "grade": false,
     "grade_id": "cell-e72b22c4f5458c1b",
     "locked": true,
     "schema_version": 3,
     "solution": false,
     "task": false
    }
   },
   "source": [
    "## Question 2\n",
    "\n",
    "Separately, we'd like to track the number of items in stock for each product.\n",
    "\n",
    "To do so we'll have a `store` and an `inventory` table.\n",
    "\n",
    "Stores have just an `id` and a `name`. **Create this table** yourself with a similar `CREATE TABLE` statement to the above.\n",
    "\n",
    "Then, our `inventory` table should combine stores and products, listing how much of each product each store has in stock.\n",
    "\n",
    "* a `product_id` (`INTEGER`)\n",
    "* a `store_id` (`INTEGER`)\n",
    "* a `quantity` (`INTEGER`) in stock\n",
    "\n",
    "_(Note: in this case below, we actually don't need a separate `id` column because we can use the combination of `store_id` and `product_id` to identify each row. This is known as a_ composite primary key _and is another fundamental relational database concept, but can be ignored if need be for our purposes)._\n",
    "\n",
    "Here is a statement creating this table:\n",
    "\n",
    "```sql\n",
    "CREATE TABLE IF NOT EXISTS inventory (\n",
    "    product_id INTEGER NOT NULL,\n",
    "    store_id INTEGER NOT NULL,\n",
    "    quantity INTEGER,\n",
    "    FOREIGN KEY (product_id) REFERENCES products(id),\n",
    "    FOREIGN KEY (store_id) REFERENCES stores(id),\n",
    "    PRIMARY KEY (product_id, store_id)\n",
    ")\n",
    "```\n",
    "which you should execute as well.\n",
    "\n",
    "[0.5 points]"
   ]
  },
  {
   "cell_type": "code",
   "execution_count": 3,
   "id": "f2404b8d",
   "metadata": {
    "deletable": false,
    "nbgrader": {
     "cell_type": "code",
     "checksum": "c18be3a515a1cd97b41e3a148afc834c",
     "grade": false,
     "grade_id": "cell-9b7c4b5d63e43b02",
     "locked": false,
     "schema_version": 3,
     "solution": true,
     "task": false
    }
   },
   "outputs": [],
   "source": [
    "# YOUR CODE HERE\n",
    "with connection:\n",
    "    connection.execute(\n",
    "        \"\"\"\n",
    "        CREATE TABLE IF NOT EXISTS stores (\n",
    "            id INTEGER PRIMARY KEY,\n",
    "            name TEXT\n",
    "        )\n",
    "        \"\"\"\n",
    "    )\n",
    "    connection.execute(\n",
    "        \"\"\"\n",
    "        CREATE TABLE IF NOT EXISTS inventory (\n",
    "            product_id INTEGER NOT NULL,\n",
    "            store_id INTEGER NOT NULL,\n",
    "            quantity INTEGER,\n",
    "            FOREIGN KEY (product_id) REFERENCES products(id),\n",
    "            FOREIGN KEY (store_id) REFERENCES stores(id),\n",
    "            PRIMARY KEY (product_id, store_id)\n",
    "        )\n",
    "        \"\"\"\n",
    "    )"
   ]
  },
  {
   "cell_type": "code",
   "execution_count": 4,
   "id": "b59183c4",
   "metadata": {
    "deletable": false,
    "editable": false,
    "nbgrader": {
     "cell_type": "code",
     "checksum": "a559c2f1233dc9471acdf6e6b06a0c67",
     "grade": true,
     "grade_id": "cell-a8bdfa1944f78ff7",
     "locked": true,
     "points": 0.5,
     "schema_version": 3,
     "solution": false,
     "task": false
    }
   },
   "outputs": [],
   "source": [
    "# CELL INTENTIONALLY LEFT BLANK - DO NOT ALTER OR DELETE"
   ]
  },
  {
   "cell_type": "markdown",
   "id": "2f86463a",
   "metadata": {
    "deletable": false,
    "editable": false,
    "nbgrader": {
     "cell_type": "markdown",
     "checksum": "fc3425234e124cf94244218bcac5747a",
     "grade": false,
     "grade_id": "cell-7bdaf518e307d6f9",
     "locked": true,
     "schema_version": 3,
     "solution": false,
     "task": false
    }
   },
   "source": [
    "## Question 3\n",
    "\n",
    "Now we can insert some stores, products and inventory into our database.\n",
    "\n",
    "There are 2 stores -- one called `NY` and one called `NJ`. There are 2 products we are concerned with. Their names are `sneakers`, costing `$220` (remember this is dollars!) and boots costing `$350`. Use any description for each that you'd like. `NY` has 4 sneakers in stock and 3 boots. `NJ` has 5 sneakers in stock and no boots.\n",
    "\n",
    "Insert the above data into the tables you have created.\n",
    "\n",
    "[4 points]"
   ]
  },
  {
   "cell_type": "code",
   "execution_count": null,
   "id": "ecc4e4cf",
   "metadata": {
    "deletable": false,
    "nbgrader": {
     "cell_type": "code",
     "checksum": "719e5bb9bb3138cf9c1423240bbdc94b",
     "grade": false,
     "grade_id": "cell-c9bc54712baa52ca",
     "locked": false,
     "schema_version": 3,
     "solution": true,
     "task": false
    }
   },
   "outputs": [],
   "source": [
    "# YOUR CODE HERE\n"
   ]
  },
  {
   "cell_type": "code",
   "execution_count": null,
   "id": "5a006b19",
   "metadata": {
    "deletable": false,
    "editable": false,
    "nbgrader": {
     "cell_type": "code",
     "checksum": "269525a976a22add5ac8f5f7dae62ed3",
     "grade": true,
     "grade_id": "cell-118c7e6641484a93",
     "locked": true,
     "points": 1,
     "schema_version": 3,
     "solution": false,
     "task": false
    }
   },
   "outputs": [],
   "source": [
    "# CELL INTENTIONALLY LEFT BLANK - DO NOT ALTER OR DELETE"
   ]
  },
  {
   "cell_type": "code",
   "execution_count": null,
   "id": "8b8c4cb7",
   "metadata": {
    "deletable": false,
    "editable": false,
    "nbgrader": {
     "cell_type": "code",
     "checksum": "c0bc4025f91b656da045a089967944e4",
     "grade": true,
     "grade_id": "cell-966bb932a2853739",
     "locked": true,
     "points": 1,
     "schema_version": 3,
     "solution": false,
     "task": false
    }
   },
   "outputs": [],
   "source": [
    "# CELL INTENTIONALLY LEFT BLANK - DO NOT ALTER OR DELETE"
   ]
  },
  {
   "cell_type": "code",
   "execution_count": null,
   "id": "7dbc502e",
   "metadata": {
    "deletable": false,
    "editable": false,
    "nbgrader": {
     "cell_type": "code",
     "checksum": "da45da2e8edce239e1d8910bfcd2c3cf",
     "grade": true,
     "grade_id": "cell-d3af6e481157efa2",
     "locked": true,
     "points": 2,
     "schema_version": 3,
     "solution": false,
     "task": false
    }
   },
   "outputs": [],
   "source": [
    "# CELL INTENTIONALLY LEFT BLANK - DO NOT ALTER OR DELETE"
   ]
  },
  {
   "cell_type": "markdown",
   "id": "a67f08c6",
   "metadata": {
    "deletable": false,
    "editable": false,
    "nbgrader": {
     "cell_type": "markdown",
     "checksum": "095b8f6cd1a096a37044990980ae8bca",
     "grade": false,
     "grade_id": "cell-65b12d7bd0db41da",
     "locked": true,
     "schema_version": 3,
     "solution": false,
     "task": false
    }
   },
   "source": [
    "## Question 4\n",
    "\n",
    "We can of course calculate the total amount of products across all stores.\n",
    "\n",
    "Write, but do not execute! a `SELECT` query which calculates this sum and returns it as its single returned column. You'll want to use a `SQL` function called `SUM` which functions much like the `COUNT` aggregation function we used in class.\n",
    "\n",
    "Assign your query to a variable called `query`.\n",
    "\n",
    "[1.5 point]"
   ]
  },
  {
   "cell_type": "code",
   "execution_count": null,
   "id": "5468ca6d",
   "metadata": {
    "deletable": false,
    "nbgrader": {
     "cell_type": "code",
     "checksum": "77708eacb2e0887b2987852d63293ec0",
     "grade": false,
     "grade_id": "cell-edc26d340873c79b",
     "locked": false,
     "schema_version": 3,
     "solution": true,
     "task": false
    }
   },
   "outputs": [],
   "source": [
    "# YOUR CODE HERE\n",
    "raise NotImplementedError()"
   ]
  },
  {
   "cell_type": "code",
   "execution_count": null,
   "id": "f3dcafa0",
   "metadata": {
    "deletable": false,
    "editable": false,
    "nbgrader": {
     "cell_type": "code",
     "checksum": "173dbb1ef73019341eecbccd4a324688",
     "grade": true,
     "grade_id": "cell-782c90de27a48810",
     "locked": true,
     "points": 1,
     "schema_version": 3,
     "solution": false,
     "task": false
    }
   },
   "outputs": [],
   "source": [
    "# CELL INTENTIONALLY LEFT BLANK - DO NOT ALTER OR DELETE"
   ]
  },
  {
   "cell_type": "code",
   "execution_count": null,
   "id": "564d89eb",
   "metadata": {
    "deletable": false,
    "editable": false,
    "nbgrader": {
     "cell_type": "code",
     "checksum": "f98eaf41f61a95551226c6f4ddf407bf",
     "grade": true,
     "grade_id": "cell-bf7419a3e7ed6815",
     "locked": true,
     "points": 0.5,
     "schema_version": 3,
     "solution": false,
     "task": false
    }
   },
   "outputs": [],
   "source": [
    "# CELL INTENTIONALLY LEFT BLANK - DO NOT ALTER OR DELETE"
   ]
  },
  {
   "cell_type": "markdown",
   "id": "0fa5ac80",
   "metadata": {
    "deletable": false,
    "editable": false,
    "nbgrader": {
     "cell_type": "markdown",
     "checksum": "39a9ff2647c8ed82b1f0e66f2a35a854",
     "grade": false,
     "grade_id": "cell-d98a4fa3e24d1311",
     "locked": true,
     "schema_version": 3,
     "solution": false,
     "task": false
    }
   },
   "source": [
    "## Question 5\n",
    "\n",
    "What about the total value _in cents_ of all products in stock? I.e. the `sum of (quantity in stock * cost of product across all products)`?\n",
    "\n",
    "Create a function called `total_current_value` which returns this `int`. You may calculate this entirely in SQL or partially in Python after retrieving the data you need from the database. You must however retrieve some of the data from the database.\n",
    "\n",
    "[1.5 points]"
   ]
  },
  {
   "cell_type": "code",
   "execution_count": null,
   "id": "553ab0c1",
   "metadata": {
    "deletable": false,
    "nbgrader": {
     "cell_type": "code",
     "checksum": "797c2e96e38824126af90b638852d343",
     "grade": false,
     "grade_id": "cell-0bb0b05129715fbd",
     "locked": false,
     "schema_version": 3,
     "solution": true,
     "task": false
    }
   },
   "outputs": [],
   "source": [
    "def total_current_value():\n",
    "    # YOUR CODE HERE\n",
    "    raise NotImplementedError()"
   ]
  },
  {
   "cell_type": "code",
   "execution_count": null,
   "id": "7991b9e4",
   "metadata": {
    "deletable": false,
    "editable": false,
    "nbgrader": {
     "cell_type": "code",
     "checksum": "87869f7bc2b84e54680463742db24763",
     "grade": true,
     "grade_id": "cell-a68838652752ff28",
     "locked": true,
     "points": 1,
     "schema_version": 3,
     "solution": false,
     "task": false
    }
   },
   "outputs": [],
   "source": [
    "### BEGIN TESTS\n",
    "assert total_current_value() == 303000, total_current_value()\n",
    "### END TESTS"
   ]
  },
  {
   "cell_type": "code",
   "execution_count": null,
   "id": "0acd7dd5",
   "metadata": {
    "deletable": false,
    "editable": false,
    "nbgrader": {
     "cell_type": "code",
     "checksum": "38e09a25cbfb0e3d3d16a2dbd4e109c5",
     "grade": true,
     "grade_id": "cell-2d9b8bebc6ab900a",
     "locked": true,
     "points": 0.5,
     "schema_version": 3,
     "solution": false,
     "task": false
    }
   },
   "outputs": [],
   "source": [
    "# CELL INTENTIONALLY LEFT BLANK - DO NOT ALTER OR DELETE"
   ]
  }
 ],
 "metadata": {
  "kernelspec": {
   "display_name": "Python 3",
   "language": "python",
   "name": "python3"
  },
  "language_info": {
   "codemirror_mode": {
    "name": "ipython",
    "version": 3
   },
   "file_extension": ".py",
   "mimetype": "text/x-python",
   "name": "python",
   "nbconvert_exporter": "python",
   "pygments_lexer": "ipython3",
   "version": "3.8.8"
  }
 },
 "nbformat": 4,
 "nbformat_minor": 5
}
